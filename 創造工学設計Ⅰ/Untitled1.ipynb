{
 "cells": [
  {
   "cell_type": "code",
   "execution_count": 1,
   "metadata": {},
   "outputs": [
    {
     "name": "stdout",
     "output_type": "stream",
     "text": [
      "年はいくつ？\n",
      "you> 18\n",
      "初恋したのはいくつのとき?\n",
      "you> 15\n",
      "あれから3年経ちましたね(T_T)\n"
     ]
    }
   ],
   "source": [
    "print('年はいくつ？')\n",
    "age=int(input('you> '))\n",
    "print('初恋したのはいくつのとき?')\n",
    "first_love=int(input('you> '))\n",
    "print('あれから'+str(age - first_love)+'年経ちましたね(T_T)')"
   ]
  },
  {
   "cell_type": "code",
   "execution_count": 2,
   "metadata": {},
   "outputs": [
    {
     "name": "stdout",
     "output_type": "stream",
     "text": [
      "身長(cm)は?\n",
      "you>160\n",
      "身長が160.0cmの場合の標準体重は56.32kgです。\n"
     ]
    }
   ],
   "source": [
    "print('身長(cm)は?')\n",
    "height=float(input('you>'))\n",
    "bmi=22\n",
    "weight=bmi*(height/100)**2\n",
    "print('身長が'+str(height)+'cmの場合の標準体重は',end='')\n",
    "print('{:.2f}kgです。'.format(weight))"
   ]
  },
  {
   "cell_type": "code",
   "execution_count": null,
   "metadata": {},
   "outputs": [],
   "source": []
  }
 ],
 "metadata": {
  "kernelspec": {
   "display_name": "Python 3 (ipykernel)",
   "language": "python",
   "name": "python3"
  },
  "language_info": {
   "codemirror_mode": {
    "name": "ipython",
    "version": 3
   },
   "file_extension": ".py",
   "mimetype": "text/x-python",
   "name": "python",
   "nbconvert_exporter": "python",
   "pygments_lexer": "ipython3",
   "version": "3.10.9"
  }
 },
 "nbformat": 4,
 "nbformat_minor": 4
}
