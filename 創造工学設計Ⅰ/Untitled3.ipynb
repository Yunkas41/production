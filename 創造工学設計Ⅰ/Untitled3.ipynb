{
 "cells": [
  {
   "cell_type": "code",
   "execution_count": 1,
   "metadata": {},
   "outputs": [
    {
     "name": "stdout",
     "output_type": "stream",
     "text": [
      "スマッシュ\n"
     ]
    }
   ],
   "source": [
    "print('スマッシュ')"
   ]
  },
  {
   "cell_type": "code",
   "execution_count": 2,
   "metadata": {},
   "outputs": [
    {
     "name": "stdout",
     "output_type": "stream",
     "text": [
      "スマッシュ\n",
      "スマッシュ\n",
      "スマッシュ\n",
      "スマッシュ\n",
      "スマッシュ\n",
      "スマッシュ\n",
      "スマッシュ\n",
      "スマッシュ\n",
      "スマッシュ\n",
      "スマッシュ\n"
     ]
    }
   ],
   "source": [
    "for count in range(10):\n",
    "    print('スマッシュ')"
   ]
  },
  {
   "cell_type": "code",
   "execution_count": 3,
   "metadata": {},
   "outputs": [
    {
     "name": "stdout",
     "output_type": "stream",
     "text": [
      "スマッシュ\n",
      "ストローク\n",
      "スマッシュ\n",
      "ストローク\n",
      "スマッシュ\n",
      "ストローク\n",
      "スマッシュ\n",
      "ストローク\n",
      "スマッシュ\n",
      "ストローク\n"
     ]
    }
   ],
   "source": [
    "attack1='スマッシュ'\n",
    "attack2='ストローク'\n",
    "for count in range(10):\n",
    "    if count%2==0:\n",
    "        print(attack1)\n",
    "    else:\n",
    "        print(attack2)"
   ]
  },
  {
   "cell_type": "code",
   "execution_count": 4,
   "metadata": {},
   "outputs": [
    {
     "name": "stdout",
     "output_type": "stream",
     "text": [
      "スマッシュ\n",
      "ストローク\n",
      "スマッシュ\n",
      "ストローク\n",
      "スマッシュ\n",
      "ストローク\n",
      "ボレー\n",
      "ストローク\n",
      "ボレー\n",
      "ストローク\n"
     ]
    }
   ],
   "source": [
    "attack1='ボレー'\n",
    "attack2='スマッシュ'\n",
    "attack3='ストローク'\n",
    "for count in range(10):\n",
    "    if (count>=6)and(count%2==0):\n",
    "        print(attack1)\n",
    "    elif(count%2==0):\n",
    "        print(attack2)\n",
    "    else:\n",
    "        print(attack3)"
   ]
  },
  {
   "cell_type": "code",
   "execution_count": 5,
   "metadata": {},
   "outputs": [
    {
     "name": "stdout",
     "output_type": "stream",
     "text": [
      "ボレー\n",
      "ストローク\n",
      "ボレー\n",
      "ストローク\n",
      "ボレー\n",
      "ストローク\n",
      "ボレー\n",
      "ストローク\n",
      "ボレー\n",
      "ストローク\n"
     ]
    }
   ],
   "source": [
    "attack1='ボレー'\n",
    "attack2='スマッシュ'\n",
    "attack3='ストローク'\n",
    "for count in range(10):\n",
    "    if (count%2==0):\n",
    "        print(attack1)\n",
    "    elif (6<=count)and(count%2==0):\n",
    "        print(attack2)\n",
    "    else:\n",
    "        print(attack3)"
   ]
  },
  {
   "cell_type": "code",
   "execution_count": 7,
   "metadata": {},
   "outputs": [
    {
     "name": "stdout",
     "output_type": "stream",
     "text": [
      "ストローク\n",
      "ストローク\n",
      "スマッシュ\n",
      "ストローク\n",
      "スマッシュ\n"
     ]
    }
   ],
   "source": [
    "import random\n",
    "\n",
    "attack1='ボレー'\n",
    "attack2='スマッシュ'\n",
    "attacck3='ロブ'\n",
    "attack4='ストローク'\n",
    "for count in range(5):\n",
    "    x=random.randint(1,10)\n",
    "    if x<=3:\n",
    "        print(attack1)\n",
    "    elif x>=4and x<=5:\n",
    "        print(attack2)\n",
    "    elif x>=6and x<=7:\n",
    "        print(attack3)\n",
    "    else:\n",
    "        print(attack4)"
   ]
  },
  {
   "cell_type": "code",
   "execution_count": 8,
   "metadata": {},
   "outputs": [
    {
     "name": "stdout",
     "output_type": "stream",
     "text": [
      "スマッシュ\n",
      "スマッシュ\n",
      "スマッシュ\n",
      "スマッシュ\n",
      "スマッシュ\n",
      "スマッシュ\n",
      "スマッシュ\n",
      "スマッシュ\n",
      "スマッシュ\n",
      "スマッシュ\n"
     ]
    }
   ],
   "source": [
    "counter=0\n",
    "while counter<10:\n",
    "    print('スマッシュ')\n",
    "    counter=counter+1"
   ]
  },
  {
   "cell_type": "code",
   "execution_count": 1,
   "metadata": {},
   "outputs": [],
   "source": [
    "counter=0\n",
    "while(counter<10):\n",
    "    print('スマッシュ')"
   ]
  },
  {
   "cell_type": "code",
   "execution_count": 10,
   "metadata": {},
   "outputs": [
    {
     "name": "stdout",
     "output_type": "stream",
     "text": [
      "お名前は？　＞oda\n",
      "oda　さん、こんにちは！\n",
      "oda >\n",
      "・・・・・・・\n"
     ]
    }
   ],
   "source": [
    "name=input('お名前は？　＞')\n",
    "print('%s　さん、こんにちは！'%name)\n",
    "prompt=name+' >'\n",
    "while 1:\n",
    "    answer=input(prompt)\n",
    "    if answer=='さよなら':\n",
    "        print('バイバイ')\n",
    "        break\n",
    "    elif not answer:\n",
    "        print('・・・・・・・')\n",
    "        break\n",
    "    print('「{}」なんですね。'.format(answer))"
   ]
  },
  {
   "cell_type": "code",
   "execution_count": 11,
   "metadata": {},
   "outputs": [
    {
     "name": "stdout",
     "output_type": "stream",
     "text": [
      "グランドストローク  ボレー  スマッシュ  ロブ  \n",
      "グランドストローク  ボレー  スマッシュ  ロブ  \n",
      "グランドストローク  ボレー  スマッシュ  ロブ  \n",
      "グランドストローク  ボレー  スマッシュ  ロブ  \n",
      "グランドストローク  ボレー  スマッシュ  ロブ  \n"
     ]
    }
   ],
   "source": [
    "attacks=['グランドストローク','ボレー','スマッシュ','ロブ']\n",
    "for count in range(5):\n",
    "    for attack in attacks:\n",
    "        print(attack,' ',end=\"\")\n",
    "    print()"
   ]
  },
  {
   "cell_type": "code",
   "execution_count": 12,
   "metadata": {},
   "outputs": [
    {
     "data": {
      "text/plain": [
       "'グランドストローク'"
      ]
     },
     "execution_count": 12,
     "metadata": {},
     "output_type": "execute_result"
    }
   ],
   "source": [
    "attacks=['グランドストローク','ボレー','スマッシュ','ロブ']\n",
    "attacks[0]"
   ]
  },
  {
   "cell_type": "code",
   "execution_count": 13,
   "metadata": {},
   "outputs": [
    {
     "data": {
      "text/plain": [
       "'ボレー'"
      ]
     },
     "execution_count": 13,
     "metadata": {},
     "output_type": "execute_result"
    }
   ],
   "source": [
    "attacks[1]"
   ]
  },
  {
   "cell_type": "code",
   "execution_count": 14,
   "metadata": {},
   "outputs": [
    {
     "data": {
      "text/plain": [
       "'スマッシュ'"
      ]
     },
     "execution_count": 14,
     "metadata": {},
     "output_type": "execute_result"
    }
   ],
   "source": [
    "attacks[2]"
   ]
  },
  {
   "cell_type": "code",
   "execution_count": 15,
   "metadata": {},
   "outputs": [
    {
     "data": {
      "text/plain": [
       "'ロブ'"
      ]
     },
     "execution_count": 15,
     "metadata": {},
     "output_type": "execute_result"
    }
   ],
   "source": [
    "attacks[3]"
   ]
  },
  {
   "cell_type": "code",
   "execution_count": 16,
   "metadata": {},
   "outputs": [
    {
     "data": {
      "text/plain": [
       "'ロブ'"
      ]
     },
     "execution_count": 16,
     "metadata": {},
     "output_type": "execute_result"
    }
   ],
   "source": [
    "attacks=['グランドストローク','ボレー','スマッシュ','ロブ']\n",
    "attacks[-1]"
   ]
  },
  {
   "cell_type": "code",
   "execution_count": 17,
   "metadata": {},
   "outputs": [
    {
     "data": {
      "text/plain": [
       "'スマッシュ'"
      ]
     },
     "execution_count": 17,
     "metadata": {},
     "output_type": "execute_result"
    }
   ],
   "source": [
    "attacks[-2]"
   ]
  },
  {
   "cell_type": "code",
   "execution_count": 18,
   "metadata": {},
   "outputs": [
    {
     "data": {
      "text/plain": [
       "'ボレー'"
      ]
     },
     "execution_count": 18,
     "metadata": {},
     "output_type": "execute_result"
    }
   ],
   "source": [
    "attacks[-3]"
   ]
  },
  {
   "cell_type": "code",
   "execution_count": 19,
   "metadata": {},
   "outputs": [
    {
     "data": {
      "text/plain": [
       "'グランドストローク'"
      ]
     },
     "execution_count": 19,
     "metadata": {},
     "output_type": "execute_result"
    }
   ],
   "source": [
    "attacks[-4]"
   ]
  },
  {
   "cell_type": "code",
   "execution_count": 20,
   "metadata": {},
   "outputs": [
    {
     "ename": "IndexError",
     "evalue": "list index out of range",
     "output_type": "error",
     "traceback": [
      "\u001b[1;31m---------------------------------------------------------------------------\u001b[0m",
      "\u001b[1;31mIndexError\u001b[0m                                Traceback (most recent call last)",
      "\u001b[1;32m<ipython-input-20-756b2b90e8fc>\u001b[0m in \u001b[0;36m<module>\u001b[1;34m\u001b[0m\n\u001b[1;32m----> 1\u001b[1;33m \u001b[0mattacks\u001b[0m\u001b[1;33m[\u001b[0m\u001b[1;33m-\u001b[0m\u001b[1;36m5\u001b[0m\u001b[1;33m]\u001b[0m\u001b[1;33m\u001b[0m\u001b[1;33m\u001b[0m\u001b[0m\n\u001b[0m",
      "\u001b[1;31mIndexError\u001b[0m: list index out of range"
     ]
    }
   ],
   "source": [
    "attacks[-5]"
   ]
  },
  {
   "cell_type": "code",
   "execution_count": 21,
   "metadata": {},
   "outputs": [
    {
     "data": {
      "text/plain": [
       "['グランドストローク', 'ボレー', 'スマッシュ']"
      ]
     },
     "execution_count": 21,
     "metadata": {},
     "output_type": "execute_result"
    }
   ],
   "source": [
    "attacks=['グランドストローク','ボレー','スマッシュ','ロブ']\n",
    "attacks[0:3]"
   ]
  },
  {
   "cell_type": "code",
   "execution_count": 22,
   "metadata": {},
   "outputs": [
    {
     "data": {
      "text/plain": [
       "['ボレー', 'スマッシュ']"
      ]
     },
     "execution_count": 22,
     "metadata": {},
     "output_type": "execute_result"
    }
   ],
   "source": [
    "attacks[-3:-1]"
   ]
  },
  {
   "cell_type": "code",
   "execution_count": 23,
   "metadata": {},
   "outputs": [
    {
     "data": {
      "text/plain": [
       "['グランドストローク', 'ボレー', 'スマッシュ', 'ロブ']"
      ]
     },
     "execution_count": 23,
     "metadata": {},
     "output_type": "execute_result"
    }
   ],
   "source": [
    "attacks=['グランドストローク','ボレー','スマッシュ','ロブ']\n",
    "attacks[::1]"
   ]
  },
  {
   "cell_type": "code",
   "execution_count": 24,
   "metadata": {},
   "outputs": [
    {
     "data": {
      "text/plain": [
       "['グランドストローク', 'スマッシュ']"
      ]
     },
     "execution_count": 24,
     "metadata": {},
     "output_type": "execute_result"
    }
   ],
   "source": [
    "attacks[::2]"
   ]
  },
  {
   "cell_type": "code",
   "execution_count": 25,
   "metadata": {},
   "outputs": [
    {
     "data": {
      "text/plain": [
       "['ロブ', 'ボレー']"
      ]
     },
     "execution_count": 25,
     "metadata": {},
     "output_type": "execute_result"
    }
   ],
   "source": [
    "attacks[::-2]"
   ]
  },
  {
   "cell_type": "code",
   "execution_count": 26,
   "metadata": {},
   "outputs": [
    {
     "data": {
      "text/plain": [
       "['ロブ', 'スマッシュ', 'ボレー', 'グランドストローク']"
      ]
     },
     "execution_count": 26,
     "metadata": {},
     "output_type": "execute_result"
    }
   ],
   "source": [
    "attacks[::-1]"
   ]
  },
  {
   "cell_type": "code",
   "execution_count": 28,
   "metadata": {},
   "outputs": [
    {
     "name": "stdout",
     "output_type": "stream",
     "text": [
      "グランドストローク\n",
      "ボレー\n",
      "スマッシュ\n",
      "ロブ\n"
     ]
    }
   ],
   "source": [
    "for attack in ['グランドストローク','ボレー','スマッシュ','ロブ']:\n",
    "    print(attack)"
   ]
  },
  {
   "cell_type": "code",
   "execution_count": 29,
   "metadata": {},
   "outputs": [
    {
     "name": "stdout",
     "output_type": "stream",
     "text": [
      "グランドストローク  ボレー  スマッシュ  ロブ  \n",
      "グランドストローク  ボレー  スマッシュ  ロブ  \n",
      "グランドストローク  ボレー  スマッシュ  ロブ  \n",
      "グランドストローク  ボレー  スマッシュ  ロブ  \n",
      "グランドストローク  ボレー  スマッシュ  ロブ  \n"
     ]
    }
   ],
   "source": [
    "attacks=['グランドストローク','ボレー','スマッシュ','ロブ']\n",
    "for count in range(5):\n",
    "    for attack in attacks:\n",
    "        print(attack,' ',end=\"\")\n",
    "    print()"
   ]
  },
  {
   "cell_type": "code",
   "execution_count": 30,
   "metadata": {},
   "outputs": [
    {
     "data": {
      "text/plain": [
       "['スライス', 'ボレー', 'スマッシュ', 'ロブ']"
      ]
     },
     "execution_count": 30,
     "metadata": {},
     "output_type": "execute_result"
    }
   ],
   "source": [
    "attacks=['グランドストローク','ボレー','スマッシュ','ロブ']\n",
    "attacks[0]='スライス'\n",
    "attacks"
   ]
  },
  {
   "cell_type": "code",
   "execution_count": 31,
   "metadata": {},
   "outputs": [
    {
     "data": {
      "text/plain": [
       "['グランドストローク', 'ボレー', 'スマッシュ', 'ロブ', 'クロスショット']"
      ]
     },
     "execution_count": 31,
     "metadata": {},
     "output_type": "execute_result"
    }
   ],
   "source": [
    "attacks=['グランドストローク','ボレー','スマッシュ','ロブ']\n",
    "attacks.append('クロスショット')\n",
    "attacks"
   ]
  },
  {
   "cell_type": "code",
   "execution_count": 32,
   "metadata": {},
   "outputs": [
    {
     "data": {
      "text/plain": [
       "'クロスショット'"
      ]
     },
     "execution_count": 32,
     "metadata": {},
     "output_type": "execute_result"
    }
   ],
   "source": [
    "attacks.pop()"
   ]
  },
  {
   "cell_type": "code",
   "execution_count": 33,
   "metadata": {},
   "outputs": [
    {
     "data": {
      "text/plain": [
       "['トップスピン', 'ボレー', 'クロススマッシュショット', 'ロブ']"
      ]
     },
     "execution_count": 33,
     "metadata": {},
     "output_type": "execute_result"
    }
   ],
   "source": [
    "attacks=['トップスピン','ボレー','クロススマッシュショット','ロブ']\n",
    "attacks"
   ]
  },
  {
   "cell_type": "code",
   "execution_count": 34,
   "metadata": {},
   "outputs": [
    {
     "data": {
      "text/plain": [
       "['トップスピン']"
      ]
     },
     "execution_count": 34,
     "metadata": {},
     "output_type": "execute_result"
    }
   ],
   "source": [
    "attacks=[]\n",
    "attacks.append('トップスピン')\n",
    "attacks"
   ]
  },
  {
   "cell_type": "code",
   "execution_count": 35,
   "metadata": {},
   "outputs": [
    {
     "data": {
      "text/plain": [
       "['トップスピン', 'ボレー']"
      ]
     },
     "execution_count": 35,
     "metadata": {},
     "output_type": "execute_result"
    }
   ],
   "source": [
    "attacks.append('ボレー')\n",
    "attacks"
   ]
  },
  {
   "cell_type": "code",
   "execution_count": 36,
   "metadata": {},
   "outputs": [
    {
     "data": {
      "text/plain": [
       "'ボレー'"
      ]
     },
     "execution_count": 36,
     "metadata": {},
     "output_type": "execute_result"
    }
   ],
   "source": [
    "attacks.pop()"
   ]
  },
  {
   "cell_type": "code",
   "execution_count": 37,
   "metadata": {},
   "outputs": [
    {
     "data": {
      "text/plain": [
       "['トップスピン']"
      ]
     },
     "execution_count": 37,
     "metadata": {},
     "output_type": "execute_result"
    }
   ],
   "source": [
    "attacks"
   ]
  },
  {
   "cell_type": "code",
   "execution_count": 38,
   "metadata": {},
   "outputs": [
    {
     "data": {
      "text/plain": [
       "['トップスピン', 'ボレー']"
      ]
     },
     "execution_count": 38,
     "metadata": {},
     "output_type": "execute_result"
    }
   ],
   "source": [
    "attacks.append('ボレー')\n",
    "attacks"
   ]
  },
  {
   "cell_type": "code",
   "execution_count": 39,
   "metadata": {},
   "outputs": [
    {
     "data": {
      "text/plain": [
       "'トップスピン'"
      ]
     },
     "execution_count": 39,
     "metadata": {},
     "output_type": "execute_result"
    }
   ],
   "source": [
    "attacks.pop(0)"
   ]
  },
  {
   "cell_type": "code",
   "execution_count": 40,
   "metadata": {},
   "outputs": [
    {
     "data": {
      "text/plain": [
       "['ボレー']"
      ]
     },
     "execution_count": 40,
     "metadata": {},
     "output_type": "execute_result"
    }
   ],
   "source": [
    "attacks"
   ]
  },
  {
   "cell_type": "code",
   "execution_count": 43,
   "metadata": {},
   "outputs": [
    {
     "data": {
      "text/plain": [
       "[['トップスピン', 'スライス', 'ライジング'], ['ロブ', 'ボレー', 'スマッシュ']]"
      ]
     },
     "execution_count": 43,
     "metadata": {},
     "output_type": "execute_result"
    }
   ],
   "source": [
    "attacks1=['トップスピン','スライス','ライジング']\n",
    "attacks2=['ロブ','ボレー','スマッシュ']\n",
    "all_attacks=[attacks1,attacks2]\n",
    "all_attacks"
   ]
  },
  {
   "cell_type": "code",
   "execution_count": 44,
   "metadata": {},
   "outputs": [
    {
     "data": {
      "text/plain": [
       "['トップスピン', 'スライス', 'ライジング']"
      ]
     },
     "execution_count": 44,
     "metadata": {},
     "output_type": "execute_result"
    }
   ],
   "source": [
    "all_attacks[0]"
   ]
  },
  {
   "cell_type": "code",
   "execution_count": 45,
   "metadata": {},
   "outputs": [
    {
     "data": {
      "text/plain": [
       "'ロブ'"
      ]
     },
     "execution_count": 45,
     "metadata": {},
     "output_type": "execute_result"
    }
   ],
   "source": [
    "all_attacks[1][0]"
   ]
  },
  {
   "cell_type": "code",
   "execution_count": 46,
   "metadata": {},
   "outputs": [
    {
     "data": {
      "text/plain": [
       "[1, 2, 3, 4, 5]"
      ]
     },
     "execution_count": 46,
     "metadata": {},
     "output_type": "execute_result"
    }
   ],
   "source": [
    "num_list=[]\n",
    "num_list.append(1)\n",
    "num_list.append(2)\n",
    "num_list.append(3)\n",
    "num_list.append(4)\n",
    "num_list.append(5)\n",
    "num_list"
   ]
  },
  {
   "cell_type": "code",
   "execution_count": 48,
   "metadata": {},
   "outputs": [
    {
     "data": {
      "text/plain": [
       "[1, 2, 3, 4, 5]"
      ]
     },
     "execution_count": 48,
     "metadata": {},
     "output_type": "execute_result"
    }
   ],
   "source": [
    "num_list2=[]\n",
    "for num in range(1,6):\n",
    "    num_list2.append(num)\n",
    "num_list2"
   ]
  },
  {
   "cell_type": "code",
   "execution_count": 50,
   "metadata": {},
   "outputs": [
    {
     "data": {
      "text/plain": [
       "[1, 2, 3, 4, 5]"
      ]
     },
     "execution_count": 50,
     "metadata": {},
     "output_type": "execute_result"
    }
   ],
   "source": [
    "num_list3=[]\n",
    "num_list3=list(range(1,6))\n",
    "num_list3"
   ]
  },
  {
   "cell_type": "markdown",
   "metadata": {},
   "source": []
  },
  {
   "cell_type": "code",
   "execution_count": 51,
   "metadata": {},
   "outputs": [
    {
     "data": {
      "text/plain": [
       "[1, 2, 3, 4, 5]"
      ]
     },
     "execution_count": 51,
     "metadata": {},
     "output_type": "execute_result"
    }
   ],
   "source": [
    "comp1=[num for num in range(1,6)]\n",
    "comp1"
   ]
  },
  {
   "cell_type": "code",
   "execution_count": 52,
   "metadata": {},
   "outputs": [
    {
     "data": {
      "text/plain": [
       "[0, 1, 2, 3, 4]"
      ]
     },
     "execution_count": 52,
     "metadata": {},
     "output_type": "execute_result"
    }
   ],
   "source": [
    "comp2=[num-1 for num in range(1,6)]\n",
    "comp2"
   ]
  },
  {
   "cell_type": "code",
   "execution_count": 53,
   "metadata": {},
   "outputs": [
    {
     "data": {
      "text/plain": [
       "[1, 3, 5]"
      ]
     },
     "execution_count": 53,
     "metadata": {},
     "output_type": "execute_result"
    }
   ],
   "source": [
    "comp3=[num for num in range(1,6) if num%2==1]\n",
    "comp3"
   ]
  },
  {
   "cell_type": "code",
   "execution_count": 54,
   "metadata": {},
   "outputs": [
    {
     "name": "stdout",
     "output_type": "stream",
     "text": [
      "スマッシュ  ロブ  ボレー  グランドストローク  \n",
      "スマッシュ  ロブ  ボレー  グランドストローク  \n",
      "スマッシュ  ロブ  ボレー  グランドストローク  \n",
      "スマッシュ  ロブ  ボレー  グランドストローク  \n",
      "スマッシュ  ロブ  ボレー  グランドストローク  \n"
     ]
    }
   ],
   "source": [
    "attacks={'グランドストローク','ボレー','スマッシュ','ロブ'}\n",
    "for count in range(5):\n",
    "    for attack in attacks:\n",
    "        print(attack,' ',end=\"\")\n",
    "    print()"
   ]
  },
  {
   "cell_type": "code",
   "execution_count": 55,
   "metadata": {},
   "outputs": [
    {
     "data": {
      "text/plain": [
       "('トップスピン', 'ネット＆ボレー', 'クロスショット')"
      ]
     },
     "execution_count": 55,
     "metadata": {},
     "output_type": "execute_result"
    }
   ],
   "source": [
    "attacks1=('トップスピン','ネット＆ボレー','クロスショット')\n",
    "attacks1"
   ]
  },
  {
   "cell_type": "code",
   "execution_count": 56,
   "metadata": {},
   "outputs": [
    {
     "data": {
      "text/plain": [
       "('トップスピン', 'ネット＆ボレー', 'クロスショット')"
      ]
     },
     "execution_count": 56,
     "metadata": {},
     "output_type": "execute_result"
    }
   ],
   "source": [
    "attacks2='トップスピン','ネット＆ボレー','クロスショット'\n",
    "attacks2"
   ]
  },
  {
   "cell_type": "code",
   "execution_count": 57,
   "metadata": {},
   "outputs": [
    {
     "data": {
      "text/plain": [
       "'トップスピン'"
      ]
     },
     "execution_count": 57,
     "metadata": {},
     "output_type": "execute_result"
    }
   ],
   "source": [
    "attacks=('トップスピン','ネット＆ボレー','クロスショット')\n",
    "a,b,c=attacks\n",
    "a"
   ]
  },
  {
   "cell_type": "code",
   "execution_count": 58,
   "metadata": {},
   "outputs": [
    {
     "data": {
      "text/plain": [
       "'ネット＆ボレー'"
      ]
     },
     "execution_count": 58,
     "metadata": {},
     "output_type": "execute_result"
    }
   ],
   "source": [
    "b"
   ]
  },
  {
   "cell_type": "code",
   "execution_count": 59,
   "metadata": {},
   "outputs": [
    {
     "data": {
      "text/plain": [
       "'クロスショット'"
      ]
     },
     "execution_count": 59,
     "metadata": {},
     "output_type": "execute_result"
    }
   ],
   "source": [
    "c"
   ]
  },
  {
   "cell_type": "code",
   "execution_count": 60,
   "metadata": {},
   "outputs": [
    {
     "name": "stdout",
     "output_type": "stream",
     "text": [
      "グランドストローク \n",
      " 「パッコーン」\n",
      "グランドストローク \n",
      " 「パッコーン」\n",
      "スマッシュ \n",
      " 「パコンッ」\n",
      "スマッシュ \n",
      " 「パコンッ」\n",
      "グランドストローク \n",
      " 「パッコーン」\n"
     ]
    }
   ],
   "source": [
    "import random\n",
    "sound={\n",
    "    'グランドストローク':'「パッコーン」',\n",
    "    'スマッシュ':'「パコンッ」',\n",
    "    'ボレー':'「ベキィッ」'\n",
    "}\n",
    "for count in range(5):\n",
    "    x=random.randint(1,10)\n",
    "    if x<=4:\n",
    "        attack='グランドストローク'\n",
    "    elif x>=5and x<=7:\n",
    "        attack='ボレー'\n",
    "    else:\n",
    "        attack='スマッシュ'\n",
    "    print(attack,'\\n',sound[attack])"
   ]
  },
  {
   "cell_type": "code",
   "execution_count": 61,
   "metadata": {},
   "outputs": [
    {
     "data": {
      "text/plain": [
       "{'グランドストローク': '「カコーン」', 'スマッシュ': '「パコンッ」', 'ボレー': '「ベキィッ」'}"
      ]
     },
     "execution_count": 61,
     "metadata": {},
     "output_type": "execute_result"
    }
   ],
   "source": [
    "sound['グランドストローク']='「カコーン」'\n",
    "sound"
   ]
  },
  {
   "cell_type": "code",
   "execution_count": 62,
   "metadata": {},
   "outputs": [
    {
     "data": {
      "text/plain": [
       "{'グランドストローク': '「カコーン」', 'スマッシュ': '「パコンッ」', 'ボレー': '「ベキィッ」', 'ロブ': 'ポコーン'}"
      ]
     },
     "execution_count": 62,
     "metadata": {},
     "output_type": "execute_result"
    }
   ],
   "source": [
    "sound['ロブ']='ポコーン'\n",
    "sound"
   ]
  },
  {
   "cell_type": "code",
   "execution_count": 63,
   "metadata": {},
   "outputs": [
    {
     "name": "stdout",
     "output_type": "stream",
     "text": [
      "グランドストローク\n",
      "スマッシュ\n",
      "ボレー\n"
     ]
    }
   ],
   "source": [
    "sound={\n",
    "    'グランドストローク':'「パッコーン」',\n",
    "    'スマッシュ':'「パコンッ」',\n",
    "    'ボレー':'「ベキィッ」'\n",
    "}\n",
    "for key in sound:\n",
    "    print(key)"
   ]
  },
  {
   "cell_type": "code",
   "execution_count": 64,
   "metadata": {},
   "outputs": [
    {
     "name": "stdout",
     "output_type": "stream",
     "text": [
      "「パッコーン」\n",
      "「パコンッ」\n",
      "「ベキィッ」\n"
     ]
    }
   ],
   "source": [
    "for value in sound.values():\n",
    "    print(value)"
   ]
  },
  {
   "cell_type": "code",
   "execution_count": 65,
   "metadata": {},
   "outputs": [
    {
     "name": "stdout",
     "output_type": "stream",
     "text": [
      "('グランドストローク', '「パッコーン」')\n",
      "('スマッシュ', '「パコンッ」')\n",
      "('ボレー', '「ベキィッ」')\n"
     ]
    }
   ],
   "source": [
    "for item in sound.items():\n",
    "    print(item)"
   ]
  },
  {
   "cell_type": "code",
   "execution_count": 67,
   "metadata": {},
   "outputs": [
    {
     "name": "stdout",
     "output_type": "stream",
     "text": [
      "attack1 : 攻撃-> グランドストローク (擬音) 「パッコーン」\n",
      "attack2 : 攻撃-> スマッシュ (擬音) 「パコンッ」\n",
      "ストローク : 攻撃-> ボレー (擬音) 「ベキィッ」\n"
     ]
    }
   ],
   "source": [
    "sence=['attack1','attack2',attack3]\n",
    "attack=['グランドストローク','スマッシュ','ボレー']\n",
    "sound=['「パッコーン」','「パコンッ」','「ベキィッ」']\n",
    "for sence,attack,sound in zip(sence,attack,sound):\n",
    "    print(sence,': 攻撃->',attack,'(擬音)',sound)"
   ]
  },
  {
   "cell_type": "code",
   "execution_count": 68,
   "metadata": {},
   "outputs": [
    {
     "data": {
      "text/plain": [
       "[('グランドストローク', '「パッコーン」'), ('スマッシュ', '「パコンッ」'), ('ボレー', '「ベキィッ」')]"
      ]
     },
     "execution_count": 68,
     "metadata": {},
     "output_type": "execute_result"
    }
   ],
   "source": [
    "attack=['グランドストローク','スマッシュ','ボレー']\n",
    "sound=['「パッコーン」','「パコンッ」','「ベキィッ」']\n",
    "list(zip(attack,sound))"
   ]
  },
  {
   "cell_type": "code",
   "execution_count": 69,
   "metadata": {},
   "outputs": [
    {
     "data": {
      "text/plain": [
       "{'グランドストローク': '「パッコーン」', 'スマッシュ': '「パコンッ」', 'ボレー': '「ベキィッ」'}"
      ]
     },
     "execution_count": 69,
     "metadata": {},
     "output_type": "execute_result"
    }
   ],
   "source": [
    "attacks=dict(zip(attack,sound))\n",
    "attacks"
   ]
  },
  {
   "cell_type": "code",
   "execution_count": 70,
   "metadata": {},
   "outputs": [
    {
     "data": {
      "text/plain": [
       "{'グランドストローク': '「パッコーン」', 'スマッシュ': '「パコンッ」', 'ボレー': '「ベキィッ」'}"
      ]
     },
     "execution_count": 70,
     "metadata": {},
     "output_type": "execute_result"
    }
   ],
   "source": [
    "attack=['グランドストローク','スマッシュ','ボレー']\n",
    "sound=['「パッコーン」','「パコンッ」','「ベキィッ」']\n",
    "attacks={i:j for(i,j) in zip(attack,sound)}\n",
    "attacks"
   ]
  },
  {
   "cell_type": "code",
   "execution_count": 71,
   "metadata": {},
   "outputs": [
    {
     "data": {
      "text/plain": [
       "{'「パッコーン」': 'グランドストローク', '「パコンッ」': 'スマッシュ', '「ベキィッ」': 'ボレー'}"
      ]
     },
     "execution_count": 71,
     "metadata": {},
     "output_type": "execute_result"
    }
   ],
   "source": [
    "attacks={j:i for(i,j) in zip(attack,sound)}\n",
    "attacks"
   ]
  },
  {
   "cell_type": "code",
   "execution_count": 72,
   "metadata": {},
   "outputs": [
    {
     "data": {
      "text/plain": [
       "{'1月', '2月', '3月', '4月', '5月'}"
      ]
     },
     "execution_count": 72,
     "metadata": {},
     "output_type": "execute_result"
    }
   ],
   "source": [
    "month={'1月','2月','3月','4月','5月'}\n",
    "month"
   ]
  },
  {
   "cell_type": "code",
   "execution_count": 73,
   "metadata": {},
   "outputs": [
    {
     "data": {
      "text/plain": [
       "{'P', 'h', 'n', 'o', 't', 'y'}"
      ]
     },
     "execution_count": 73,
     "metadata": {},
     "output_type": "execute_result"
    }
   ],
   "source": [
    "set('Python')"
   ]
  },
  {
   "cell_type": "code",
   "execution_count": 74,
   "metadata": {},
   "outputs": [
    {
     "data": {
      "text/plain": [
       "{'App', 'Python'}"
      ]
     },
     "execution_count": 74,
     "metadata": {},
     "output_type": "execute_result"
    }
   ],
   "source": [
    "set(['Python','App'])"
   ]
  },
  {
   "cell_type": "code",
   "execution_count": 75,
   "metadata": {},
   "outputs": [
    {
     "data": {
      "text/plain": [
       "{'App', 'Python'}"
      ]
     },
     "execution_count": 75,
     "metadata": {},
     "output_type": "execute_result"
    }
   ],
   "source": [
    "set(('Python','App'))"
   ]
  },
  {
   "cell_type": "code",
   "execution_count": 76,
   "metadata": {},
   "outputs": [
    {
     "data": {
      "text/plain": [
       "{'スマッシュ', 'ボレー'}"
      ]
     },
     "execution_count": 76,
     "metadata": {},
     "output_type": "execute_result"
    }
   ],
   "source": [
    "set({'スマッシュ':'「パコンッ」','ボレー':'「ガッコーン」'})"
   ]
  },
  {
   "cell_type": "code",
   "execution_count": 77,
   "metadata": {},
   "outputs": [
    {
     "data": {
      "text/plain": [
       "{'スマッシュ', 'ボレー', 'ロブ'}"
      ]
     },
     "execution_count": 77,
     "metadata": {},
     "output_type": "execute_result"
    }
   ],
   "source": [
    "data=['スマッシュ','ボレー','ロブ','スマッシュ','ボレー']\n",
    "data_set=set(data)\n",
    "data_set"
   ]
  },
  {
   "cell_type": "code",
   "execution_count": 78,
   "metadata": {},
   "outputs": [
    {
     "data": {
      "text/plain": [
       "['ロブ', 'ボレー', 'スマッシュ']"
      ]
     },
     "execution_count": 78,
     "metadata": {},
     "output_type": "execute_result"
    }
   ],
   "source": [
    "attacks=list(data_set)\n",
    "attacks"
   ]
  },
  {
   "cell_type": "code",
   "execution_count": 79,
   "metadata": {},
   "outputs": [
    {
     "data": {
      "text/plain": [
       "{'ロブ'}"
      ]
     },
     "execution_count": 79,
     "metadata": {},
     "output_type": "execute_result"
    }
   ],
   "source": [
    "data1={'スマッシュ','ボレー','ロブ'}\n",
    "data2={'スマッシュ','ボレー','ドロップショット'}\n",
    "data1-data2"
   ]
  },
  {
   "cell_type": "code",
   "execution_count": 80,
   "metadata": {},
   "outputs": [
    {
     "data": {
      "text/plain": [
       "{'スマッシュ', 'ボレー'}"
      ]
     },
     "execution_count": 80,
     "metadata": {},
     "output_type": "execute_result"
    }
   ],
   "source": [
    "data1&data2"
   ]
  },
  {
   "cell_type": "code",
   "execution_count": 81,
   "metadata": {},
   "outputs": [
    {
     "data": {
      "text/plain": [
       "{'グランドストローク', 'スマッシュ', 'ドロップショット', 'ボレー', 'ロブ'}"
      ]
     },
     "execution_count": 81,
     "metadata": {},
     "output_type": "execute_result"
    }
   ],
   "source": [
    "data1={'スマッシュ','ボレー','ロブ'}\n",
    "data2={'スマッシュ','ボレー','ドロップショット'}\n",
    "data3={'スマッシュ','ボレー','グランドストローク'}\n",
    "data1.union(data2,data3)"
   ]
  },
  {
   "cell_type": "code",
   "execution_count": 82,
   "metadata": {},
   "outputs": [
    {
     "data": {
      "text/plain": [
       "{'スマッシュ', 'ボレー'}"
      ]
     },
     "execution_count": 82,
     "metadata": {},
     "output_type": "execute_result"
    }
   ],
   "source": [
    "data1.intersection(data2,data3)"
   ]
  },
  {
   "cell_type": "code",
   "execution_count": 83,
   "metadata": {},
   "outputs": [
    {
     "name": "stdout",
     "output_type": "stream",
     "text": [
      "スマッシュ --> パコーン\n"
     ]
    }
   ],
   "source": [
    "def add_sound2(a,b):\n",
    "    print(a,'-->',b)\n",
    "add_sound2('スマッシュ','パコーン')"
   ]
  },
  {
   "cell_type": "code",
   "execution_count": 84,
   "metadata": {},
   "outputs": [
    {
     "name": "stdout",
     "output_type": "stream",
     "text": [
      "スマッシュ --> パコーン\n"
     ]
    }
   ],
   "source": [
    "def add_sound3(a,b='パコーン'):\n",
    "    print(a,'-->',b)\n",
    "add_sound3('スマッシュ')"
   ]
  },
  {
   "cell_type": "code",
   "execution_count": 87,
   "metadata": {},
   "outputs": [
    {
     "name": "stdout",
     "output_type": "stream",
     "text": [
      "「パ」\n"
     ]
    }
   ],
   "source": [
    "def generate(str):\n",
    "    for s in str:\n",
    "        yield '「'+s+'」'\n",
    "gen=generate('パコーンッッ！')\n",
    "print(next(gen))"
   ]
  },
  {
   "cell_type": "code",
   "execution_count": 88,
   "metadata": {},
   "outputs": [
    {
     "name": "stdout",
     "output_type": "stream",
     "text": [
      "「コ」\n"
     ]
    }
   ],
   "source": [
    "print(next(gen))"
   ]
  },
  {
   "cell_type": "code",
   "execution_count": 89,
   "metadata": {},
   "outputs": [
    {
     "name": "stdout",
     "output_type": "stream",
     "text": [
      "「ー」\n"
     ]
    }
   ],
   "source": [
    "print(next(gen))"
   ]
  },
  {
   "cell_type": "code",
   "execution_count": 90,
   "metadata": {},
   "outputs": [
    {
     "name": "stdout",
     "output_type": "stream",
     "text": [
      "「ン」\n"
     ]
    }
   ],
   "source": [
    "print(next(gen))"
   ]
  },
  {
   "cell_type": "code",
   "execution_count": 91,
   "metadata": {},
   "outputs": [
    {
     "name": "stdout",
     "output_type": "stream",
     "text": [
      "「ッ」\n"
     ]
    }
   ],
   "source": [
    "print(next(gen))"
   ]
  },
  {
   "cell_type": "code",
   "execution_count": 92,
   "metadata": {},
   "outputs": [
    {
     "name": "stdout",
     "output_type": "stream",
     "text": [
      "「ッ」\n"
     ]
    }
   ],
   "source": [
    "print(next(gen))"
   ]
  },
  {
   "cell_type": "code",
   "execution_count": 93,
   "metadata": {},
   "outputs": [
    {
     "name": "stdout",
     "output_type": "stream",
     "text": [
      "「！」\n"
     ]
    }
   ],
   "source": [
    "print(next(gen))"
   ]
  },
  {
   "cell_type": "code",
   "execution_count": 94,
   "metadata": {},
   "outputs": [
    {
     "name": "stdout",
     "output_type": "stream",
     "text": [
      "「パ」\n",
      "「コ」\n",
      "「ー」\n",
      "「ン」\n",
      "「ッ」\n",
      "「ッ」\n",
      "「！」\n"
     ]
    }
   ],
   "source": [
    "gen=generate('パコーンッッ！')\n",
    "for s in gen:\n",
    "    print(s)"
   ]
  },
  {
   "cell_type": "code",
   "execution_count": null,
   "metadata": {},
   "outputs": [],
   "source": []
  }
 ],
 "metadata": {
  "kernelspec": {
   "display_name": "Python 3",
   "language": "python",
   "name": "python3"
  },
  "language_info": {
   "codemirror_mode": {
    "name": "ipython",
    "version": 3
   },
   "file_extension": ".py",
   "mimetype": "text/x-python",
   "name": "python",
   "nbconvert_exporter": "python",
   "pygments_lexer": "ipython3",
   "version": "3.8.8"
  }
 },
 "nbformat": 4,
 "nbformat_minor": 4
}
