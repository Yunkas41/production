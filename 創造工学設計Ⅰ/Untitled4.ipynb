{
 "cells": [
  {
   "cell_type": "code",
   "execution_count": 21,
   "id": "f5eb19b3",
   "metadata": {},
   "outputs": [
    {
     "name": "stdout",
     "output_type": "stream",
     "text": [
      "お名前は？　＞Python\n",
      "ご無沙汰です！\n",
      "Python さん\n"
     ]
    }
   ],
   "source": [
    "@dec\n",
    "def hello():\n",
    "    return \"ご無沙汰です！\"\n",
    "\n",
    "name=input('お名前は？　＞')\n",
    "def dec(func):\n",
    "    def new_func():\n",
    "        #print('function called:'+func.__name__)\n",
    "        return func()\n",
    "    return new_func\n",
    "\n",
    "hello=dec(hello)\n",
    "print(hello())\n",
    "print('%s さん'%name)"
   ]
  },
  {
   "cell_type": "code",
   "execution_count": null,
   "id": "8e67dcda",
   "metadata": {},
   "outputs": [],
   "source": []
  }
 ],
 "metadata": {
  "kernelspec": {
   "display_name": "Python 3 (ipykernel)",
   "language": "python",
   "name": "python3"
  },
  "language_info": {
   "codemirror_mode": {
    "name": "ipython",
    "version": 3
   },
   "file_extension": ".py",
   "mimetype": "text/x-python",
   "name": "python",
   "nbconvert_exporter": "python",
   "pygments_lexer": "ipython3",
   "version": "3.10.9"
  }
 },
 "nbformat": 4,
 "nbformat_minor": 5
}
