{
 "cells": [
  {
   "cell_type": "code",
   "execution_count": 5,
   "id": "0522c018",
   "metadata": {},
   "outputs": [],
   "source": [
    "class MyCoach:\n",
    "    '''\n",
    "    '''\n",
    "    def __init__(self,max):\n",
    "        '''\n",
    "        初期化メソッド\n",
    "        \n",
    "        self:インスタンスの参照情報\n",
    "        max:繰り返しの関数\n",
    "        '''\n",
    "        self.max=max\n",
    "        self.count=0\n",
    "        \n",
    "    def teach(self):\n",
    "        if self.count<self.max:\n",
    "            print('もっと強く！')\n",
    "        else:\n",
    "            print('よーしオッケーだ！')\n",
    "        self.count+=1"
   ]
  },
  {
   "cell_type": "code",
   "execution_count": 6,
   "id": "07a6aa35",
   "metadata": {},
   "outputs": [
    {
     "name": "stdout",
     "output_type": "stream",
     "text": [
      "スマッシュ\n",
      "もっと強く！\n",
      "スマッシュ\n",
      "もっと強く！\n",
      "スマッシュ\n",
      "もっと強く！\n",
      "スマッシュ\n",
      "もっと強く！\n",
      "スマッシュ\n",
      "もっと強く！\n",
      "スマッシュ\n",
      "よーしオッケーだ！\n"
     ]
    }
   ],
   "source": [
    "mc=MyCoach(5)\n",
    "for i in range(6):\n",
    "    print('スマッシュ')\n",
    "    mc.teach()"
   ]
  },
  {
   "cell_type": "code",
   "execution_count": 7,
   "id": "d4265261",
   "metadata": {},
   "outputs": [],
   "source": [
    "class MyCoach2:\n",
    "    count=0\n",
    "    max=5\n",
    "    def teach(self):\n",
    "        if self.__class__.count<self.__class__.max:\n",
    "            print('もっと強く！')\n",
    "        else:\n",
    "            print('よーしオッケーだ！')\n",
    "        self.__class__.count+=1"
   ]
  },
  {
   "cell_type": "code",
   "execution_count": 8,
   "id": "fb602a3f",
   "metadata": {},
   "outputs": [
    {
     "name": "stdout",
     "output_type": "stream",
     "text": [
      "スマッシュ\n",
      "もっと強く！\n",
      "スマッシュ\n",
      "もっと強く！\n",
      "スマッシュ\n",
      "もっと強く！\n",
      "ライジング\n",
      "もっと強く！\n",
      "ライジング\n",
      "もっと強く！\n",
      "ライジング\n",
      "よーしオッケーだ！\n"
     ]
    }
   ],
   "source": [
    "my1=MyCoach2()\n",
    "for i in range(3):\n",
    "    print('スマッシュ')\n",
    "    my1.teach()\n",
    "    \n",
    "my2=MyCoach2()\n",
    "for i in range(3):\n",
    "    print('ライジング')\n",
    "    my2.teach()"
   ]
  },
  {
   "cell_type": "code",
   "execution_count": 10,
   "id": "3f3d9d94",
   "metadata": {},
   "outputs": [
    {
     "name": "stdout",
     "output_type": "stream",
     "text": [
      "スマッシュ\n",
      "もっと強く！\n",
      "スマッシュ\n",
      "もっと強く！\n",
      "スマッシュ\n",
      "もっと強く！\n",
      "ライジング\n",
      "もっと強く！\n",
      "ライジング\n",
      "もっと強く！\n",
      "ライジング\n",
      "よーしオッケーだ！\n",
      "トップスピン\n",
      "もっと強く！\n",
      "トップスピン\n",
      "もっと強く！\n"
     ]
    }
   ],
   "source": [
    "MyCoach2.count=0\n",
    "oni1=MyCoach2()\n",
    "for i in range(3):\n",
    "    print('スマッシュ')\n",
    "    oni1.teach()\n",
    "oni2=MyCoach2()\n",
    "for i in range(3):\n",
    "    print('ライジング')\n",
    "    oni2.teach()\n",
    "MyCoach2.count=0\n",
    "oni3=MyCoach2()\n",
    "for i in range(2):\n",
    "    print('トップスピン')\n",
    "    oni3.teach()"
   ]
  },
  {
   "cell_type": "code",
   "execution_count": 11,
   "id": "ba0e733c",
   "metadata": {},
   "outputs": [],
   "source": [
    "class MyCoach3:\n",
    "    count=0\n",
    "    max=5\n",
    "    \n",
    "    @classmethod\n",
    "    def teach(cls):\n",
    "        if cls.count<cls.max:\n",
    "            print('もっと強く！')\n",
    "        else:\n",
    "            print('よーしオッケーだ！')\n",
    "        cls.count+=1"
   ]
  },
  {
   "cell_type": "code",
   "execution_count": 12,
   "id": "95dbb3c0",
   "metadata": {},
   "outputs": [
    {
     "name": "stdout",
     "output_type": "stream",
     "text": [
      "スマッシュ\n",
      "もっと強く！\n",
      "スマッシュ\n",
      "もっと強く！\n",
      "スマッシュ\n",
      "もっと強く！\n",
      "ライジング\n",
      "もっと強く！\n",
      "ライジング\n",
      "もっと強く！\n",
      "ライジング\n",
      "よーしオッケーだ！\n"
     ]
    }
   ],
   "source": [
    "for i in range(3):\n",
    "    print('スマッシュ')\n",
    "    MyCoach3.teach()\n",
    "for i in range(3):\n",
    "    print('ライジング')\n",
    "    MyCoach3.teach()"
   ]
  },
  {
   "cell_type": "code",
   "execution_count": 16,
   "id": "6b0fbb67",
   "metadata": {},
   "outputs": [],
   "source": [
    "class DefaultCoach:\n",
    "    def __init__(self,max=5,count=0):\n",
    "        self.max=max\n",
    "        self.count=count\n",
    "    def teach(self):\n",
    "        if self.count<self.max:\n",
    "            print('もっと強く！')\n",
    "        else:\n",
    "            print('よーしオッケーだ！')\n",
    "        self.count=1"
   ]
  },
  {
   "cell_type": "code",
   "execution_count": 17,
   "id": "a93c361b",
   "metadata": {},
   "outputs": [
    {
     "name": "stdout",
     "output_type": "stream",
     "text": [
      "スマッシュ\n",
      "もっと強く！\n",
      "スマッシュ\n",
      "もっと強く！\n",
      "スマッシュ\n",
      "もっと強く！\n",
      "スマッシュ\n",
      "もっと強く！\n",
      "スマッシュ\n",
      "もっと強く！\n"
     ]
    }
   ],
   "source": [
    "df=DefaultCoach()\n",
    "df.count=1\n",
    "for i in range(5):\n",
    "    print('スマッシュ')\n",
    "    df.teach()"
   ]
  },
  {
   "cell_type": "code",
   "execution_count": 18,
   "id": "71c583d5",
   "metadata": {},
   "outputs": [],
   "source": [
    "class CapsuleCoach:\n",
    "    def __init__(self,max=5,count=0):\n",
    "        self.__max=max\n",
    "        self.__count=count\n",
    "    def get_max(self):\n",
    "        return self.__max\n",
    "    def set_max(self,max):\n",
    "        self.__max=max\n",
    "    def get_count(self):\n",
    "        return self.__count\n",
    "    def set_count(self,count):\n",
    "        self.__count=count\n",
    "    max=property(get_max,set_max)\n",
    "    count=property(get_count,set_count)\n",
    "    def teach(self):\n",
    "        if self.count<self.max:\n",
    "            print('もっと強く！')\n",
    "        else:\n",
    "            print('よーしオッケーだ！')\n",
    "        self.count+=1"
   ]
  },
  {
   "cell_type": "code",
   "execution_count": null,
   "id": "06009f9c",
   "metadata": {},
   "outputs": [],
   "source": []
  }
 ],
 "metadata": {
  "kernelspec": {
   "display_name": "Python 3",
   "language": "python",
   "name": "python3"
  },
  "language_info": {
   "codemirror_mode": {
    "name": "ipython",
    "version": 3
   },
   "file_extension": ".py",
   "mimetype": "text/x-python",
   "name": "python",
   "nbconvert_exporter": "python",
   "pygments_lexer": "ipython3",
   "version": "3.8.8"
  }
 },
 "nbformat": 4,
 "nbformat_minor": 5
}
