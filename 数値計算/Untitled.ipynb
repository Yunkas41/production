{
 "cells": [
  {
   "cell_type": "code",
   "execution_count": 1,
   "id": "3e5014dd",
   "metadata": {},
   "outputs": [
    {
     "data": {
      "text/plain": [
       "(4.250884578881845, 4.4397522375861105e-10)"
      ]
     },
     "execution_count": 1,
     "metadata": {},
     "output_type": "execute_result"
    }
   ],
   "source": [
    "import numpy as np\n",
    "import scipy.integrate as scint\n",
    "scint.quad(lambda x: 5*np.sqrt(1-(4/5)**2 * x**2)/np.sqrt(1-x**2),0,4/5)"
   ]
  },
  {
   "cell_type": "code",
   "execution_count": 3,
   "id": "48692754",
   "metadata": {},
   "outputs": [
    {
     "data": {
      "text/plain": [
       "(1.2019697153172066, 1.3344544528473075e-14)"
      ]
     },
     "execution_count": 3,
     "metadata": {},
     "output_type": "execute_result"
    }
   ],
   "source": [
    "import numpy as np\n",
    "import scipy.integrate as scint\n",
    "scint.quad(lambda x:np.cos(np.sin(x)),0,np.pi/2)"
   ]
  },
  {
   "cell_type": "code",
   "execution_count": null,
   "id": "bfd0de05",
   "metadata": {},
   "outputs": [],
   "source": []
  }
 ],
 "metadata": {
  "kernelspec": {
   "display_name": "Python 3 (ipykernel)",
   "language": "python",
   "name": "python3"
  },
  "language_info": {
   "codemirror_mode": {
    "name": "ipython",
    "version": 3
   },
   "file_extension": ".py",
   "mimetype": "text/x-python",
   "name": "python",
   "nbconvert_exporter": "python",
   "pygments_lexer": "ipython3",
   "version": "3.10.9"
  }
 },
 "nbformat": 4,
 "nbformat_minor": 5
}
