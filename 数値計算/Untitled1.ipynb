{
 "cells": [
  {
   "cell_type": "code",
   "execution_count": 1,
   "id": "580e62f0",
   "metadata": {},
   "outputs": [
    {
     "name": "stdout",
     "output_type": "stream",
     "text": [
      "ID:1811408, Name:Oda Yuto\n"
     ]
    }
   ],
   "source": [
    "#問題3.1\n",
    "print('ID:1811408, Name:Oda Yuto')"
   ]
  },
  {
   "cell_type": "code",
   "execution_count": 4,
   "id": "73a34d0f",
   "metadata": {},
   "outputs": [
    {
     "name": "stdout",
     "output_type": "stream",
     "text": [
      "tyre(a)= <class 'int'>\n",
      "tyre(b)= <class 'float'>\n",
      "tyre(c)= <class 'str'>\n",
      "0.3333333333333333\n",
      "tyre(a)= <class 'str'>\n"
     ]
    }
   ],
   "source": [
    "#listing3.2\n",
    "a=1\n",
    "b=3.0\n",
    "c='文字列'\n",
    "print('tyre(a)=',type(a))\n",
    "print('tyre(b)=',type(b))\n",
    "print('tyre(c)=',type(c))\n",
    "print(a/b)\n",
    "a='1'\n",
    "print('tyre(a)=',type(a))"
   ]
  },
  {
   "cell_type": "code",
   "execution_count": 3,
   "id": "2e2cda46",
   "metadata": {},
   "outputs": [
    {
     "name": "stdout",
     "output_type": "stream",
     "text": [
      "tyre(a)= <class 'float'>\n",
      "tyre(b)= <class 'str'>\n",
      "tyre(c)= <class 'int'>\n",
      "tyre(a)= <class 'int'>\n"
     ]
    }
   ],
   "source": [
    "a=0.3333333333333333333333\n",
    "b='as'\n",
    "c=0\n",
    "print('tyre(a)=',type(a))\n",
    "print('tyre(b)=',type(b))\n",
    "print('tyre(c)=',type(c))\n",
    "\n",
    "a=1\n",
    "print('tyre(a)=',type(a))"
   ]
  },
  {
   "cell_type": "code",
   "execution_count": 5,
   "id": "90054fd2",
   "metadata": {},
   "outputs": [
    {
     "name": "stdout",
     "output_type": "stream",
     "text": [
      "a=  1.06538699999999995e+01\n",
      "a=        +10.654\n",
      "a=                 10.65387\n",
      "a=  1.06538699999999995e+01\n"
     ]
    }
   ],
   "source": [
    "#listing3.3\n",
    "a=10.65387\n",
    "print(f'a={a:25.17e}')\n",
    "print(f'a={a:+15.3f}')\n",
    "print(f'a={a:25.17g}')\n",
    "\n",
    "print(f'a={a:25.17e}'.format(a))"
   ]
  },
  {
   "cell_type": "code",
   "execution_count": 6,
   "id": "26dfd4b0",
   "metadata": {},
   "outputs": [
    {
     "name": "stdout",
     "output_type": "stream",
     "text": [
      "sys.float_info(max=1.7976931348623157e+308, max_exp=1024, max_10_exp=308, min=2.2250738585072014e-308, min_exp=-1021, min_10_exp=-307, dig=15, mant_dig=53, epsilon=2.220446049250313e-16, radix=2, rounds=1)\n"
     ]
    }
   ],
   "source": [
    "#listing3.4\n",
    "import sys\n",
    "print(sys.float_info)"
   ]
  },
  {
   "cell_type": "code",
   "execution_count": 7,
   "id": "3881e50a",
   "metadata": {},
   "outputs": [],
   "source": [
    "#max=1.7976931348623157e+308\n",
    "#max_exp=1024\n",
    "#max_10_exp=308\n",
    "#min=2.2250738585072014e-308\n",
    "#min_exp=-1021\n",
    "#min_10_exp=-307\n",
    "#dig=15\n",
    "#mant_dig=53\n",
    "#epsilon=2.220446049250313e-16\n",
    "#radix=2\n",
    "#rounds=1"
   ]
  },
  {
   "cell_type": "code",
   "execution_count": 9,
   "id": "78ad5806",
   "metadata": {},
   "outputs": [
    {
     "name": "stdout",
     "output_type": "stream",
     "text": [
      "a=1\n",
      "a= 1 , type(a)= <class 'str'>\n",
      "b=234\n",
      "a+b= 1234\n",
      "a+b= 235.0\n"
     ]
    }
   ],
   "source": [
    "#listing3.5\n",
    "a=input('a=')\n",
    "print('a=',a,', type(a)=',type(a))\n",
    "b=input('b=')\n",
    "print('a+b=',a+b)\n",
    "a,b=float(a),float(b)\n",
    "print('a+b=',a+b)"
   ]
  },
  {
   "cell_type": "code",
   "execution_count": 10,
   "id": "df6642a1",
   "metadata": {},
   "outputs": [],
   "source": [
    "#"
   ]
  },
  {
   "cell_type": "code",
   "execution_count": 11,
   "id": "2f04ecf6",
   "metadata": {},
   "outputs": [
    {
     "name": "stdout",
     "output_type": "stream",
     "text": [
      "a=3\n",
      "b=5\n",
      "a+b= 8.0\n",
      "a-b= -2.0\n",
      "a*b= 15.0\n",
      "a/b= 0.6\n",
      "sqrt(a)= 1.7320508075688772\n",
      "(sqrt(b))^2= 5.000000000000001\n",
      "exp(a)= 20.085536923187668\n",
      "sin(a)= 0.1411200080598672\n",
      "cos(a)= -0.9899924966004454\n",
      "tan(a)= -0.1425465430742778\n",
      "log(a)= 1.0986122886681098\n",
      "log10(a)= 0.47712125471966244\n"
     ]
    }
   ],
   "source": [
    "#listing3.6\n",
    "import math\n",
    "a=input('a=')\n",
    "b=input('b=')\n",
    "a,b=float(a),float(b)\n",
    "print('a+b=',a+b)\n",
    "print('a-b=',a-b)\n",
    "print('a*b=',a*b)\n",
    "print('a/b=',a/b)\n",
    "print('sqrt(a)=',math.sqrt(a))\n",
    "c=math.sqrt(b)\n",
    "print('(sqrt(b))^2=',c**2)\n",
    "print('exp(a)=',math.exp(a))\n",
    "print('sin(a)=',math.sin(a))\n",
    "print('cos(a)=',math.cos(a))\n",
    "print('tan(a)=',math.tan(a))\n",
    "print('log(a)=',math.log(a))\n",
    "print('log10(a)=',math.log10(a))"
   ]
  },
  {
   "cell_type": "code",
   "execution_count": 4,
   "id": "1bdb428d",
   "metadata": {},
   "outputs": [
    {
     "name": "stdout",
     "output_type": "stream",
     "text": [
      "a=1\n",
      "b=2\n",
      "c=3\n",
      "ax^2+bx+c=0の解は\n",
      "x= 0.41421356237309515\n",
      "x= -2.414213562373095\n"
     ]
    }
   ],
   "source": [
    "#問題3.2\n",
    "import math\n",
    "a=input('a=')\n",
    "b=input('b=')\n",
    "c=input('c=')\n",
    "a,b,c=float(a),float(b),float(c)\n",
    "d=b**2-4*a*c\n",
    "d=abs(d)\n",
    "print('ax^2+bx+c=0の解は')\n",
    "print('x=',(-1*b+math.sqrt(d))/(2*a))\n",
    "print('x=',(-1*b-math.sqrt(d))/(2*a))"
   ]
  },
  {
   "cell_type": "code",
   "execution_count": 5,
   "id": "9a15db76",
   "metadata": {},
   "outputs": [
    {
     "name": "stdout",
     "output_type": "stream",
     "text": [
      "a= (1.2+3.4j)\n",
      "b= (2.3-4.5j)\n",
      "i= 1j , i^2= (-1+0j)\n",
      "a+b= (3.5-1.1j)\n",
      "a-b= (-1.0999999999999999+7.9j)\n",
      "a*b= (18.06+2.42j)\n",
      "a/b= (-0.49099451840250585+0.5176194205168364j)\n"
     ]
    }
   ],
   "source": [
    "#listing3.7\n",
    "a=1.2+3.4j\n",
    "b=complex(2.3,-4.5)\n",
    "print('a=',a)\n",
    "print('b=',b)\n",
    "print('i=',1j,', i^2=',1j**2)\n",
    "print('a+b=',a+b)\n",
    "print('a-b=',a-b)\n",
    "print('a*b=',a*b)\n",
    "print('a/b=',a/b)"
   ]
  },
  {
   "cell_type": "code",
   "execution_count": 6,
   "id": "c51d7442",
   "metadata": {},
   "outputs": [
    {
     "name": "stdout",
     "output_type": "stream",
     "text": [
      "a= (1.2+3.4j)\n",
      "sqrt(a)= (1.5500889128472581+1.096711282759503j)\n",
      "sqrt(a)^2= (1.2000000000000002+3.3999999999999995j)\n",
      "exp(a)= (-3.209883040054176-0.8484263372940289j)\n",
      "sin(a)= (13.979408806017995+5.422815472463401j)\n",
      "log(a)= (1.2824746787307684+1.2315037123408519j)\n",
      "log10(a)= (0.5569716761534184+0.5348352667130015j)\n"
     ]
    }
   ],
   "source": [
    "import cmath\n",
    "a=1.2+3.4j\n",
    "print('a=',a)\n",
    "c=cmath.sqrt(a)\n",
    "print('sqrt(a)=',cmath.sqrt(a))\n",
    "print('sqrt(a)^2=',c**2)\n",
    "print('exp(a)=',cmath.exp(a))\n",
    "print('sin(a)=',cmath.sin(a))\n",
    "print('log(a)=',cmath.log(a))\n",
    "print('log10(a)=',cmath.log10(a))"
   ]
  },
  {
   "cell_type": "code",
   "execution_count": 7,
   "id": "a74634a4",
   "metadata": {},
   "outputs": [
    {
     "name": "stdout",
     "output_type": "stream",
     "text": [
      "a=1\n",
      "b=2\n",
      "c=3\n",
      "ax^2+bx+c=0の解は\n",
      "x= (-1+1.4142135623730951j)\n",
      "x= (-1-1.4142135623730951j)\n"
     ]
    }
   ],
   "source": [
    "#問題3.3\n",
    "import cmath\n",
    "a=input('a=')\n",
    "b=input('b=')\n",
    "c=input('c=')\n",
    "a,b,c=float(a),float(b),float(c)\n",
    "d=b**2-4*a*c\n",
    "print('ax^2+bx+c=0の解は')\n",
    "print('x=',(-1*b+cmath.sqrt(d))/(2*a))\n",
    "print('x=',(-1*b-cmath.sqrt(d))/(2*a))"
   ]
  },
  {
   "cell_type": "code",
   "execution_count": 8,
   "id": "a537f1bc",
   "metadata": {},
   "outputs": [
    {
     "name": "stdout",
     "output_type": "stream",
     "text": [
      "a= 3.0\n",
      "z= (-1+2j)\n",
      "np.sqrt(a)= 1.7320508075688772\n",
      "np.sqrt(z)= (0.7861513777574233+1.272019649514069j)\n",
      "cmath.sqrt(a)= (0.7861513777574233+1.272019649514069j)\n",
      "np.sqrt(a)^2= 2.9999999999999996\n",
      "np.sqrt(z)^2= (-1+2j)\n",
      "cmath.sqrt(a)^2= (-1+2j)\n",
      "np.exp(a)= 20.085536923187668\n",
      "np.sin(a)= 0.1411200080598672\n",
      "np.log(a)= 1.0986122886681098\n",
      "np.log10(a)= 0.47712125471966244\n",
      "np.exp(z)= (-0.1530918656742263+0.33451182923926226j)\n",
      "np.sin(z)= (-3.165778513216168+1.9596010414216063j)\n",
      "np.log(z)= (0.8047189562170503+2.0344439357957027j)\n",
      "np.log10(z)= (0.34948500216800943+0.8835477750576072j)\n",
      "math.exp(a)= 20.085536923187668\n",
      "math.sin(a)= 0.1411200080598672\n",
      "cmath.exp(z)= (-0.1530918656742263+0.33451182923926226j)\n",
      "cmath.sin(z)= (-3.165778513216168+1.959601041421606j)\n",
      "cmath.log(z)= (0.8047189562170503+2.0344439357957027j)\n",
      "cmath.log10(z)= (0.3494850021680094+0.8835477750576072j)\n"
     ]
    }
   ],
   "source": [
    "import numpy as np\n",
    "import math\n",
    "import cmath\n",
    "\n",
    "a=3.0\n",
    "z=-1.0+2.0j\n",
    "print('a=',a)\n",
    "print('z=',z)\n",
    "print('np.sqrt(a)=',np.sqrt(a))\n",
    "print('np.sqrt(z)=',np.sqrt(z))\n",
    "print('cmath.sqrt(a)=',cmath.sqrt(z))\n",
    "c=np.sqrt(a)\n",
    "w=np.sqrt(z)\n",
    "print('np.sqrt(a)^2=',c**2)\n",
    "print('np.sqrt(z)^2=',w**2)\n",
    "w=cmath.sqrt(z)\n",
    "print('cmath.sqrt(a)^2=',w**2)\n",
    "print('np.exp(a)=',np.exp(a))\n",
    "print('np.sin(a)=',np.sin(a))\n",
    "print('np.log(a)=',np.log(a))\n",
    "print('np.log10(a)=',np.log10(a))\n",
    "print('np.exp(z)=',np.exp(z))\n",
    "print('np.sin(z)=',np.sin(z))\n",
    "print('np.log(z)=',np.log(z))\n",
    "print('np.log10(z)=',np.log10(z))\n",
    "print('math.exp(a)=',math.exp(a))\n",
    "print('math.sin(a)=',math.sin(a))\n",
    "#print('math.log(a)=',math.log(a))\n",
    "#print('math.log10(a)=',math.log10(a))\n",
    "print('cmath.exp(z)=',cmath.exp(z))\n",
    "print('cmath.sin(z)=',cmath.sin(z))\n",
    "print('cmath.log(z)=',cmath.log(z))\n",
    "print('cmath.log10(z)=',cmath.log10(z))"
   ]
  },
  {
   "cell_type": "code",
   "execution_count": 1,
   "id": "55c8310a",
   "metadata": {},
   "outputs": [
    {
     "name": "stdout",
     "output_type": "stream",
     "text": [
      "a=1\n",
      "b=2\n",
      "c=3\n",
      "ax^2+bx+c=0の解は\n",
      "x= nan\n",
      "x= nan\n"
     ]
    },
    {
     "name": "stderr",
     "output_type": "stream",
     "text": [
      "C:\\Users\\oduya\\AppData\\Local\\Temp\\ipykernel_2052\\3573363429.py:9: RuntimeWarning: invalid value encountered in sqrt\n",
      "  print('x=',(-1*b+np.sqrt(d))/(2*a))\n",
      "C:\\Users\\oduya\\AppData\\Local\\Temp\\ipykernel_2052\\3573363429.py:10: RuntimeWarning: invalid value encountered in sqrt\n",
      "  print('x=',(-1*b-np.sqrt(d))/(2*a))\n"
     ]
    }
   ],
   "source": [
    "#問題3.4\n",
    "import numpy as np\n",
    "a=input('a=')\n",
    "b=input('b=')\n",
    "c=input('c=')\n",
    "a,b,c=float(a),float(b),float(c)\n",
    "d=b**2-4*a*c\n",
    "print('ax^2+bx+c=0の解は')\n",
    "print('x=',(-1*b+np.sqrt(d))/(2*a))\n",
    "print('x=',(-1*b-np.sqrt(d))/(2*a))"
   ]
  },
  {
   "cell_type": "code",
   "execution_count": 2,
   "id": "b374d0f9",
   "metadata": {},
   "outputs": [
    {
     "name": "stdout",
     "output_type": "stream",
     "text": [
      "a= 141421.35623730952\n",
      "a~= 141421\n",
      "E(a~)= 0.3562373095192015\n",
      "rE(a~)= 2.518978172726784e-06\n",
      "a~の10進有効桁数は 5\n",
      "a~の2進有効桁数は 18\n"
     ]
    }
   ],
   "source": [
    "#問題3.5\n",
    "import numpy as np\n",
    "a=100000*np.sqrt(2)\n",
    "b=141421\n",
    "print('a=',a)\n",
    "print('a~=',b)\n",
    "print('E(a~)=',a-b)\n",
    "print('rE(a~)=',(a-b)/a)\n",
    "c=-1*np.log10((a-b)/a)\n",
    "d=-1*np.log2((a-b)/a)\n",
    "c,d=int(c),int(d)\n",
    "print('a~の10進有効桁数は',c)\n",
    "print('a~の2進有効桁数は',d)"
   ]
  },
  {
   "cell_type": "code",
   "execution_count": 8,
   "id": "28c362c6",
   "metadata": {},
   "outputs": [
    {
     "name": "stdout",
     "output_type": "stream",
     "text": [
      "a= [[0.77132064 0.02075195 0.63364823 0.74880388 0.49850701 0.22479665\n",
      "  0.19806286 0.76053071 0.16911084 0.08833981]]\n",
      "max(reldiff(sc_c,np_c))= 1.825913870374813e-16\n",
      "min(reldiff(sc_c,np_c))= 0.0\n",
      "SciPy expm1(a)= [[1.16262042 0.02096877 0.88447305 1.11446935 0.64626159 0.25206808\n",
      "  0.21903903 1.13941133 0.18425139 0.09235926]]\n",
      "NumPy exp(a)-1= [[1.16262042 0.02096877 0.88447305 1.11446935 0.64626159 0.25206808\n",
      "  0.21903903 1.13941133 0.18425139 0.09235926]]\n",
      "max(reldiff(sc_c,np_c))= 4.301903650071126e-15\n",
      "min(reldiff(sc_c,np_c))= 0.0\n"
     ]
    }
   ],
   "source": [
    "#listing3.10&3.11\n",
    "import numpy as np\n",
    "import numpy.matlib as npmat\n",
    "import scipy.special as scspf\n",
    "\n",
    "def relerr(approx,true_val):\n",
    "    relerr=np.abs(approx-true_val)\n",
    "    \n",
    "    if isinstance(approx,(list,np.ndarray)):\n",
    "        if true_val.any()==0.0:\n",
    "            nonzero_abs_true_val=[]\n",
    "            for val in true_val:\n",
    "                if val==0.0:\n",
    "                    nonzero_abs_true_val.append(1.0)\n",
    "                else:\n",
    "                    nonzero_abs_true_val.append(np.abs(val))\n",
    "        else:\n",
    "            nonzero_abs_true_val=np.abs(true_val)\n",
    "            \n",
    "        relerr/=nonzero_abs_true_val\n",
    "    else:\n",
    "        if true_val !=0.0:\n",
    "            relerr/=np.abs(true_val)\n",
    "    return relerr\n",
    "\n",
    "n=10\n",
    "np.random.seed(n)\n",
    "a=npmat.rand(n)\n",
    "print('a=',a)\n",
    "sc_c=scspf.cbrt(a)\n",
    "np_c=np.cbrt(a)\n",
    "relerr_vec=relerr(sc_c,np_c)\n",
    "print('max(reldiff(sc_c,np_c))=',np.max(relerr_vec))\n",
    "print('min(reldiff(sc_c,np_c))=',np.min(relerr_vec))\n",
    "sc_c=scspf.expm1(a)\n",
    "np_c=np.exp(a)-1\n",
    "print('SciPy expm1(a)=',sc_c)\n",
    "print('NumPy exp(a)-1=',np_c)\n",
    "relerr_vec=relerr(sc_c,np_c)\n",
    "print('max(reldiff(sc_c,np_c))=',np.max(relerr_vec))\n",
    "print('min(reldiff(sc_c,np_c))=',np.min(relerr_vec))"
   ]
  },
  {
   "cell_type": "code",
   "execution_count": 13,
   "id": "d4bc917a",
   "metadata": {},
   "outputs": [
    {
     "name": "stdout",
     "output_type": "stream",
     "text": [
      "a= 1.01\n",
      "b= 2718281\n",
      "c= 0.01\n",
      "ax^2+bx+c=0の解は\n",
      "x= -3.688406236100905e-09\n",
      "x= -2691367.3267326695\n",
      "a= 3\n",
      "b= -350\n",
      "c= 2\n",
      "ax^2+bx+c=0の解は\n",
      "x= 116.66095210104159\n",
      "x= 0.005714565625083878\n",
      "rE(x)= 3.3530488583121593e-10\n"
     ]
    }
   ],
   "source": [
    "#問題3.6\n",
    "import numpy as np\n",
    "a=1.01\n",
    "b=2718281\n",
    "c=0.01\n",
    "print('a=',a)\n",
    "print('b=',b)\n",
    "print('c=',c)\n",
    "d=b**2-4*a*c\n",
    "e=(-1*b+np.sqrt(d))/(2*a)\n",
    "f=(-1*b-np.sqrt(d))/(2*a)\n",
    "print('ax^2+bx+c=0の解は')\n",
    "print('x=',e)\n",
    "print('x=',f)\n",
    "\n",
    "a=3\n",
    "b=-350\n",
    "c=2\n",
    "print('a=',a)\n",
    "print('b=',b)\n",
    "print('c=',c)\n",
    "d=b**2-4*a*c\n",
    "e=(-1*b+np.sqrt(d))/(2*a)\n",
    "f=(-1*b-np.sqrt(d))/(2*a)\n",
    "print('ax^2+bx+c=0の解は')\n",
    "print('x=',e)\n",
    "print('x=',f)\n",
    "g=0.005714565627\n",
    "print('rE(x)=',(g-f)/g)"
   ]
  },
  {
   "cell_type": "code",
   "execution_count": 14,
   "id": "4ca8d2df",
   "metadata": {},
   "outputs": [
    {
     "name": "stdout",
     "output_type": "stream",
     "text": [
      "a= 3\n",
      "b= -350\n",
      "c= 2\n",
      "ax^2+bx+c=0の解は\n",
      "x= 116.66095210104159\n",
      "x= 0.005714565625088143\n",
      "rE(x)= 3.345585792973407e-10\n"
     ]
    }
   ],
   "source": [
    "#問題3.7\n",
    "import numpy as np\n",
    "a=3\n",
    "b=-350\n",
    "c=2\n",
    "print('a=',a)\n",
    "print('b=',b)\n",
    "print('c=',c)\n",
    "d=b**2-4*a*c\n",
    "n=int(n)\n",
    "if b<0:\n",
    "    n=-1\n",
    "else:\n",
    "    n=1\n",
    "e=(-1*b-n*np.sqrt(d))/(2*a)\n",
    "f=c/(a*e)\n",
    "print('ax^2+bx+c=0の解は')\n",
    "print('x=',e)\n",
    "print('x=',f)\n",
    "g=0.005714565627\n",
    "print('rE(x)=',(g-f)/g)"
   ]
  },
  {
   "cell_type": "code",
   "execution_count": null,
   "id": "0bfddfc8",
   "metadata": {},
   "outputs": [],
   "source": []
  }
 ],
 "metadata": {
  "kernelspec": {
   "display_name": "Python 3 (ipykernel)",
   "language": "python",
   "name": "python3"
  },
  "language_info": {
   "codemirror_mode": {
    "name": "ipython",
    "version": 3
   },
   "file_extension": ".py",
   "mimetype": "text/x-python",
   "name": "python",
   "nbconvert_exporter": "python",
   "pygments_lexer": "ipython3",
   "version": "3.10.9"
  }
 },
 "nbformat": 4,
 "nbformat_minor": 5
}
