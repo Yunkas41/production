{
 "cells": [
  {
   "cell_type": "code",
   "execution_count": 2,
   "id": "29022c0e",
   "metadata": {},
   "outputs": [
    {
     "name": "stdout",
     "output_type": "stream",
     "text": [
      "poly_coef= [-4.0, 3.0, -2.0, 1.0]\n",
      "p(x)=\n",
      "     3     2\n",
      "-4 x + 3 x - 2 x + 1\n",
      "horner p( 1.7320508075688772 )= -14.248711305964282\n",
      "Numpy  p( 1.7320508075688772 )= -14.248711305964282\n"
     ]
    }
   ],
   "source": [
    "import numpy as np\n",
    "\n",
    "def horner_poly(x,coef):\n",
    "    deg=len(coef)\n",
    "    ret=coef[0]\n",
    "    for i in range(0,deg-1):\n",
    "        ret=ret*x+coef[i+1]\n",
    "    return ret\n",
    "\n",
    "poly_coef=[-4.0,3.0,-2.0,1.0]\n",
    "print('poly_coef=',poly_coef)\n",
    "\n",
    "p=np.poly1d(poly_coef)\n",
    "print('p(x)=\\n',p)\n",
    "\n",
    "x=np.sqrt(3.0)\n",
    "print('horner p(',x,')=',horner_poly(x,poly_coef))\n",
    "print('Numpy  p(',x,')=',p(x))"
   ]
  },
  {
   "cell_type": "code",
   "execution_count": 8,
   "id": "765847f0",
   "metadata": {},
   "outputs": [
    {
     "name": "stdout",
     "output_type": "stream",
     "text": [
      "math.sqrt( 12 )= 3.4641016151377544\n",
      "newton   ( 12 )= 3.4641016151377544 , Iter.Times= 6\n",
      "Relative error  = 0.0\n",
      "math.sqrt( 123 )= 11.090536506409418\n",
      "newton   ( 123 )= 11.090536506409418 , Iter.Times= 8\n",
      "Relative error  = 0.0\n",
      "math.sqrt( 12345 )= 111.1080555135405\n",
      "newton   ( 12345 )= 111.10805770848404 , Iter.Times= 9\n",
      "Relative error  = 1.9755035073294147e-08\n"
     ]
    }
   ],
   "source": [
    "import math\n",
    "def newton_sqrt(x,rtol,atol):\n",
    "    old_sqrt=x\n",
    "    for times in range(0,10):\n",
    "        new_sqrt=(old_sqrt+x/old_sqrt)/2.0\n",
    "        if math.fabs(new_sqrt-old_sqrt)<=math.fabs(old_sqrt)*rtol+atol:\n",
    "            return new_sqrt,times\n",
    "        old_sqrt=new_sqrt\n",
    "    return new_sqrt,times\n",
    "\n",
    "rel_tol=1.0e-10\n",
    "abs_tol=1.0e-50\n",
    "\n",
    "x=12\n",
    "true_val=math.sqrt(x)\n",
    "newton_val,iter_times=newton_sqrt(x,rel_tol,abs_tol)\n",
    "print('math.sqrt(',x,')=',true_val)\n",
    "print('newton   (',x,')=',newton_val,', Iter.Times=',iter_times)\n",
    "print('Relative error  =',math.fabs((true_val-newton_val)/true_val))\n",
    "\n",
    "x=123\n",
    "true_val=math.sqrt(x)\n",
    "newton_val,iter_times=newton_sqrt(x,rel_tol,abs_tol)\n",
    "print('math.sqrt(',x,')=',true_val)\n",
    "print('newton   (',x,')=',newton_val,', Iter.Times=',iter_times)\n",
    "print('Relative error  =',math.fabs((true_val-newton_val)/true_val))\n",
    "\n",
    "x=12345\n",
    "true_val=math.sqrt(x)\n",
    "newton_val,iter_times=newton_sqrt(x,rel_tol,abs_tol)\n",
    "print('math.sqrt(',x,')=',true_val)\n",
    "print('newton   (',x,')=',newton_val,', Iter.Times=',iter_times)\n",
    "print('Relative error  =',math.fabs((true_val-newton_val)/true_val))"
   ]
  },
  {
   "cell_type": "code",
   "execution_count": 11,
   "id": "83ebf489",
   "metadata": {},
   "outputs": [
    {
     "ename": "ZeroDivisionError",
     "evalue": "division by zero",
     "output_type": "error",
     "traceback": [
      "\u001b[1;31m---------------------------------------------------------------------------\u001b[0m",
      "\u001b[1;31mZeroDivisionError\u001b[0m                         Traceback (most recent call last)",
      "Cell \u001b[1;32mIn[11], line 8\u001b[0m\n\u001b[0;32m      6\u001b[0m \u001b[38;5;28;01mfor\u001b[39;00m i \u001b[38;5;129;01min\u001b[39;00m \u001b[38;5;28mrange\u001b[39m(\u001b[38;5;241m0\u001b[39m,\u001b[38;5;241m100\u001b[39m):\n\u001b[0;32m      7\u001b[0m     p\u001b[38;5;241m=\u001b[39mp\u001b[38;5;241m*\u001b[39mi\n\u001b[1;32m----> 8\u001b[0m     n\u001b[38;5;241m=\u001b[39mn\u001b[38;5;241m+\u001b[39m(\u001b[38;5;241;43m1\u001b[39;49m\u001b[38;5;241;43m/\u001b[39;49m\u001b[43mp\u001b[49m)\n\u001b[0;32m      9\u001b[0m     \u001b[38;5;28;01mif\u001b[39;00m x\u001b[38;5;241m-\u001b[39mn\u001b[38;5;241m<\u001b[39m\u001b[38;5;241m=\u001b[39m\u001b[38;5;241m0.000000000000001\u001b[39m:\n\u001b[0;32m     10\u001b[0m         ni\u001b[38;5;241m=\u001b[39mi\n",
      "\u001b[1;31mZeroDivisionError\u001b[0m: division by zero"
     ]
    }
   ],
   "source": [
    "import math\n",
    "\n",
    "x=math.exp(1)\n",
    "n=0.0\n",
    "p=1\n",
    "for i in range(0,100):\n",
    "    p=p*i\n",
    "    n=n+(1/p)\n",
    "    if x-n<=0.000000000000001:\n",
    "        ni=i\n",
    "        break\n",
    "    elif n-x<=0.000000000000001:\n",
    "        ni=i\n",
    "        break\n",
    "print('e=',x)\n",
    "print('e(',ni,')=',n)"
   ]
  }
 ],
 "metadata": {
  "kernelspec": {
   "display_name": "Python 3 (ipykernel)",
   "language": "python",
   "name": "python3"
  },
  "language_info": {
   "codemirror_mode": {
    "name": "ipython",
    "version": 3
   },
   "file_extension": ".py",
   "mimetype": "text/x-python",
   "name": "python",
   "nbconvert_exporter": "python",
   "pygments_lexer": "ipython3",
   "version": "3.10.9"
  }
 },
 "nbformat": 4,
 "nbformat_minor": 5
}
